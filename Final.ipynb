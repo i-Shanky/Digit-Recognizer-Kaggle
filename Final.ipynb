{
 "cells": [
  {
   "cell_type": "code",
   "execution_count": 1,
   "metadata": {},
   "outputs": [
    {
     "name": "stdout",
     "output_type": "stream",
     "text": [
      "['Untitled.ipynb', 'train.csv', 'sample_submission.csv', '.ipynb_checkpoints', 'test.csv', 'submission.csv']\n"
     ]
    }
   ],
   "source": [
    "import numpy as np # linear algebra\n",
    "import pandas as pd # data processing, CSV file I/O (e.g. pd.read_csv)\n",
    "\n",
    "import os\n",
    "print(os.listdir())"
   ]
  },
  {
   "cell_type": "code",
   "execution_count": 2,
   "metadata": {},
   "outputs": [],
   "source": [
    "train_df = pd.read_csv(\"train.csv\")\n",
    "test_df = pd.read_csv(\"test.csv\")"
   ]
  },
  {
   "cell_type": "code",
   "execution_count": 3,
   "metadata": {},
   "outputs": [
    {
     "data": {
      "text/html": [
       "<div>\n",
       "<style scoped>\n",
       "    .dataframe tbody tr th:only-of-type {\n",
       "        vertical-align: middle;\n",
       "    }\n",
       "\n",
       "    .dataframe tbody tr th {\n",
       "        vertical-align: top;\n",
       "    }\n",
       "\n",
       "    .dataframe thead th {\n",
       "        text-align: right;\n",
       "    }\n",
       "</style>\n",
       "<table border=\"1\" class=\"dataframe\">\n",
       "  <thead>\n",
       "    <tr style=\"text-align: right;\">\n",
       "      <th></th>\n",
       "      <th>label</th>\n",
       "      <th>pixel0</th>\n",
       "      <th>pixel1</th>\n",
       "      <th>pixel2</th>\n",
       "      <th>pixel3</th>\n",
       "      <th>pixel4</th>\n",
       "      <th>pixel5</th>\n",
       "      <th>pixel6</th>\n",
       "      <th>pixel7</th>\n",
       "      <th>pixel8</th>\n",
       "      <th>...</th>\n",
       "      <th>pixel774</th>\n",
       "      <th>pixel775</th>\n",
       "      <th>pixel776</th>\n",
       "      <th>pixel777</th>\n",
       "      <th>pixel778</th>\n",
       "      <th>pixel779</th>\n",
       "      <th>pixel780</th>\n",
       "      <th>pixel781</th>\n",
       "      <th>pixel782</th>\n",
       "      <th>pixel783</th>\n",
       "    </tr>\n",
       "  </thead>\n",
       "  <tbody>\n",
       "    <tr>\n",
       "      <th>0</th>\n",
       "      <td>1</td>\n",
       "      <td>0</td>\n",
       "      <td>0</td>\n",
       "      <td>0</td>\n",
       "      <td>0</td>\n",
       "      <td>0</td>\n",
       "      <td>0</td>\n",
       "      <td>0</td>\n",
       "      <td>0</td>\n",
       "      <td>0</td>\n",
       "      <td>...</td>\n",
       "      <td>0</td>\n",
       "      <td>0</td>\n",
       "      <td>0</td>\n",
       "      <td>0</td>\n",
       "      <td>0</td>\n",
       "      <td>0</td>\n",
       "      <td>0</td>\n",
       "      <td>0</td>\n",
       "      <td>0</td>\n",
       "      <td>0</td>\n",
       "    </tr>\n",
       "    <tr>\n",
       "      <th>1</th>\n",
       "      <td>0</td>\n",
       "      <td>0</td>\n",
       "      <td>0</td>\n",
       "      <td>0</td>\n",
       "      <td>0</td>\n",
       "      <td>0</td>\n",
       "      <td>0</td>\n",
       "      <td>0</td>\n",
       "      <td>0</td>\n",
       "      <td>0</td>\n",
       "      <td>...</td>\n",
       "      <td>0</td>\n",
       "      <td>0</td>\n",
       "      <td>0</td>\n",
       "      <td>0</td>\n",
       "      <td>0</td>\n",
       "      <td>0</td>\n",
       "      <td>0</td>\n",
       "      <td>0</td>\n",
       "      <td>0</td>\n",
       "      <td>0</td>\n",
       "    </tr>\n",
       "    <tr>\n",
       "      <th>2</th>\n",
       "      <td>1</td>\n",
       "      <td>0</td>\n",
       "      <td>0</td>\n",
       "      <td>0</td>\n",
       "      <td>0</td>\n",
       "      <td>0</td>\n",
       "      <td>0</td>\n",
       "      <td>0</td>\n",
       "      <td>0</td>\n",
       "      <td>0</td>\n",
       "      <td>...</td>\n",
       "      <td>0</td>\n",
       "      <td>0</td>\n",
       "      <td>0</td>\n",
       "      <td>0</td>\n",
       "      <td>0</td>\n",
       "      <td>0</td>\n",
       "      <td>0</td>\n",
       "      <td>0</td>\n",
       "      <td>0</td>\n",
       "      <td>0</td>\n",
       "    </tr>\n",
       "    <tr>\n",
       "      <th>3</th>\n",
       "      <td>4</td>\n",
       "      <td>0</td>\n",
       "      <td>0</td>\n",
       "      <td>0</td>\n",
       "      <td>0</td>\n",
       "      <td>0</td>\n",
       "      <td>0</td>\n",
       "      <td>0</td>\n",
       "      <td>0</td>\n",
       "      <td>0</td>\n",
       "      <td>...</td>\n",
       "      <td>0</td>\n",
       "      <td>0</td>\n",
       "      <td>0</td>\n",
       "      <td>0</td>\n",
       "      <td>0</td>\n",
       "      <td>0</td>\n",
       "      <td>0</td>\n",
       "      <td>0</td>\n",
       "      <td>0</td>\n",
       "      <td>0</td>\n",
       "    </tr>\n",
       "    <tr>\n",
       "      <th>4</th>\n",
       "      <td>0</td>\n",
       "      <td>0</td>\n",
       "      <td>0</td>\n",
       "      <td>0</td>\n",
       "      <td>0</td>\n",
       "      <td>0</td>\n",
       "      <td>0</td>\n",
       "      <td>0</td>\n",
       "      <td>0</td>\n",
       "      <td>0</td>\n",
       "      <td>...</td>\n",
       "      <td>0</td>\n",
       "      <td>0</td>\n",
       "      <td>0</td>\n",
       "      <td>0</td>\n",
       "      <td>0</td>\n",
       "      <td>0</td>\n",
       "      <td>0</td>\n",
       "      <td>0</td>\n",
       "      <td>0</td>\n",
       "      <td>0</td>\n",
       "    </tr>\n",
       "  </tbody>\n",
       "</table>\n",
       "<p>5 rows × 785 columns</p>\n",
       "</div>"
      ],
      "text/plain": [
       "   label  pixel0  pixel1  pixel2  pixel3  pixel4  pixel5  pixel6  pixel7  \\\n",
       "0      1       0       0       0       0       0       0       0       0   \n",
       "1      0       0       0       0       0       0       0       0       0   \n",
       "2      1       0       0       0       0       0       0       0       0   \n",
       "3      4       0       0       0       0       0       0       0       0   \n",
       "4      0       0       0       0       0       0       0       0       0   \n",
       "\n",
       "   pixel8    ...     pixel774  pixel775  pixel776  pixel777  pixel778  \\\n",
       "0       0    ...            0         0         0         0         0   \n",
       "1       0    ...            0         0         0         0         0   \n",
       "2       0    ...            0         0         0         0         0   \n",
       "3       0    ...            0         0         0         0         0   \n",
       "4       0    ...            0         0         0         0         0   \n",
       "\n",
       "   pixel779  pixel780  pixel781  pixel782  pixel783  \n",
       "0         0         0         0         0         0  \n",
       "1         0         0         0         0         0  \n",
       "2         0         0         0         0         0  \n",
       "3         0         0         0         0         0  \n",
       "4         0         0         0         0         0  \n",
       "\n",
       "[5 rows x 785 columns]"
      ]
     },
     "execution_count": 3,
     "metadata": {},
     "output_type": "execute_result"
    }
   ],
   "source": [
    "train_df.head()"
   ]
  },
  {
   "cell_type": "code",
   "execution_count": 5,
   "metadata": {},
   "outputs": [],
   "source": [
    "X_test = test_df.values"
   ]
  },
  {
   "cell_type": "code",
   "execution_count": 6,
   "metadata": {},
   "outputs": [],
   "source": [
    "import tensorflow as tf"
   ]
  },
  {
   "cell_type": "code",
   "execution_count": 7,
   "metadata": {},
   "outputs": [],
   "source": [
    "X = train_df.drop('label',axis=1)\n",
    "Y = train_df['label']\n",
    "Y = pd.get_dummies(Y)\n",
    "X = X.values\n",
    "Y = Y.values"
   ]
  },
  {
   "cell_type": "code",
   "execution_count": 8,
   "metadata": {},
   "outputs": [
    {
     "data": {
      "text/plain": [
       "42000"
      ]
     },
     "execution_count": 8,
     "metadata": {},
     "output_type": "execute_result"
    }
   ],
   "source": [
    "x = tf.placeholder(tf.float32,[None, 784])\n",
    "y = tf.placeholder(tf.float32,[None,10])\n",
    "n_nodes_hl1 = 500\n",
    "n_nodes_hl2 = 500\n",
    "n_nodes_hl3 = 500\n",
    "n_classes = 10\n",
    "batch_size = 100\n",
    "X.shape[0]"
   ]
  },
  {
   "cell_type": "code",
   "execution_count": 9,
   "metadata": {},
   "outputs": [],
   "source": [
    "def neural_network_model(data):\n",
    "    hidden_layer_1 = {'weights':tf.Variable(tf.random_normal([784,n_nodes_hl1])),\n",
    "                     'bias':tf.Variable(tf.random_normal([n_nodes_hl1]))}\n",
    "    hidden_layer_2 = {'weights':tf.Variable(tf.random_normal([n_nodes_hl1,n_nodes_hl2])),\n",
    "                     'bias':tf.Variable(tf.random_normal([n_nodes_hl2]))}\n",
    "    hidden_layer_3 = {'weights':tf.Variable(tf.random_normal([n_nodes_hl2,n_nodes_hl3])),\n",
    "                     'bias':tf.Variable(tf.random_normal([n_nodes_hl3]))}\n",
    "    output_layer = {'weights':tf.Variable(tf.random_normal([n_nodes_hl3,n_classes])),\n",
    "                     'bias':tf.Variable(tf.random_normal([n_classes]))}\n",
    "    \n",
    "    l1 = tf.matmul(data , hidden_layer_1['weights']) + hidden_layer_1['bias']\n",
    "    l1 = tf.nn.relu(l1)\n",
    "    l2 = tf.matmul(l1 , hidden_layer_2['weights']) + hidden_layer_2['bias']\n",
    "    l2 = tf.nn.relu(l2)\n",
    "    l3 = tf.matmul(l2, hidden_layer_3['weights']) + hidden_layer_3['bias']\n",
    "    l3 = tf.nn.relu(l3)\n",
    "    \n",
    "    output = tf.matmul(l3,output_layer['weights']) + output_layer['bias']\n",
    "    return output\n",
    "    "
   ]
  },
  {
   "cell_type": "code",
   "execution_count": 10,
   "metadata": {},
   "outputs": [],
   "source": [
    "def train_neural_network(x):\n",
    "    prediction = neural_network_model(x)\n",
    "    \n",
    "    cost = tf.reduce_mean(tf.nn.softmax_cross_entropy_with_logits_v2(labels = y, logits = prediction ))\n",
    "    \n",
    "    optimizer = tf.train.AdamOptimizer().minimize(cost)\n",
    "    \n",
    "    hm_epochs = 100\n",
    "    \n",
    "    with tf.Session() as sess:\n",
    "        sess.run(tf.global_variables_initializer())\n",
    "        total_batches = int(X.shape[0]/batch_size)\n",
    "        for epoch in range(hm_epochs):\n",
    "            epoch_loss=0\n",
    "            \n",
    "            for i in range(total_batches):\n",
    "                epoch_x = X[i*100:(i+1)*100][:]\n",
    "                epoch_y = Y[i*100:(i+1)*100][:]\n",
    "                _, c = sess.run([optimizer,cost], feed_dict={x: epoch_x, y: epoch_y})\n",
    "                epoch_loss += c\n",
    "            print(\"Epoch:\", epoch , 'completed out of ', hm_epochs,' loss :' ,epoch_loss)\n",
    "                  \n",
    "\n",
    "        Pred = sess.run(prediction, feed_dict = {x:X_test})\n",
    "    return Pred\n",
    "            \n",
    "                \n",
    "                \n",
    "                "
   ]
  },
  {
   "cell_type": "code",
   "execution_count": 11,
   "metadata": {},
   "outputs": [
    {
     "name": "stdout",
     "output_type": "stream",
     "text": [
      "Epoch: 0 completed out of  100  loss : 384872359.71875\n",
      "Epoch: 1 completed out of  100  loss : 89911370.25390625\n",
      "Epoch: 2 completed out of  100  loss : 49042741.125\n",
      "Epoch: 3 completed out of  100  loss : 29019703.59753418\n",
      "Epoch: 4 completed out of  100  loss : 16953888.70793152\n",
      "Epoch: 5 completed out of  100  loss : 10619211.648132324\n",
      "Epoch: 6 completed out of  100  loss : 6831083.167179108\n",
      "Epoch: 7 completed out of  100  loss : 5587519.569205523\n",
      "Epoch: 8 completed out of  100  loss : 3518878.9169692993\n",
      "Epoch: 9 completed out of  100  loss : 3560365.7726745605\n",
      "Epoch: 10 completed out of  100  loss : 2897600.016468048\n",
      "Epoch: 11 completed out of  100  loss : 2580865.6782569885\n",
      "Epoch: 12 completed out of  100  loss : 2909028.1832122803\n",
      "Epoch: 13 completed out of  100  loss : 2896813.900123596\n",
      "Epoch: 14 completed out of  100  loss : 2139374.8472709656\n",
      "Epoch: 15 completed out of  100  loss : 2602081.240190267\n",
      "Epoch: 16 completed out of  100  loss : 2989043.453135371\n",
      "Epoch: 17 completed out of  100  loss : 2492462.677886963\n",
      "Epoch: 18 completed out of  100  loss : 2350070.5325546265\n",
      "Epoch: 19 completed out of  100  loss : 2015278.661026001\n",
      "Epoch: 20 completed out of  100  loss : 2209819.3121414185\n",
      "Epoch: 21 completed out of  100  loss : 1994330.416759491\n",
      "Epoch: 22 completed out of  100  loss : 1532366.1034431458\n",
      "Epoch: 23 completed out of  100  loss : 2019171.8665161133\n",
      "Epoch: 24 completed out of  100  loss : 1185283.9348068237\n",
      "Epoch: 25 completed out of  100  loss : 1287615.2455558777\n",
      "Epoch: 26 completed out of  100  loss : 1646193.483285904\n",
      "Epoch: 27 completed out of  100  loss : 1484852.0094909668\n",
      "Epoch: 28 completed out of  100  loss : 1662822.1366958618\n",
      "Epoch: 29 completed out of  100  loss : 1131137.372013092\n",
      "Epoch: 30 completed out of  100  loss : 1078813.9621047974\n",
      "Epoch: 31 completed out of  100  loss : 1585836.290605545\n",
      "Epoch: 32 completed out of  100  loss : 1390024.0269155502\n",
      "Epoch: 33 completed out of  100  loss : 1115201.9683380127\n",
      "Epoch: 34 completed out of  100  loss : 1260310.1859054565\n",
      "Epoch: 35 completed out of  100  loss : 1302769.7366333008\n",
      "Epoch: 36 completed out of  100  loss : 1006675.4318618774\n",
      "Epoch: 37 completed out of  100  loss : 846357.6037602425\n",
      "Epoch: 38 completed out of  100  loss : 1363270.520275116\n",
      "Epoch: 39 completed out of  100  loss : 1289834.529220581\n",
      "Epoch: 40 completed out of  100  loss : 1026291.5330047607\n",
      "Epoch: 41 completed out of  100  loss : 1274775.6957092285\n",
      "Epoch: 42 completed out of  100  loss : 1395136.6995220184\n",
      "Epoch: 43 completed out of  100  loss : 1291178.8180217743\n",
      "Epoch: 44 completed out of  100  loss : 888114.5485534668\n",
      "Epoch: 45 completed out of  100  loss : 814577.2940177917\n",
      "Epoch: 46 completed out of  100  loss : 680591.890832901\n",
      "Epoch: 47 completed out of  100  loss : 976665.9350128174\n",
      "Epoch: 48 completed out of  100  loss : 693228.2690124512\n",
      "Epoch: 49 completed out of  100  loss : 1102964.051246643\n",
      "Epoch: 50 completed out of  100  loss : 1078773.2757873535\n",
      "Epoch: 51 completed out of  100  loss : 769424.2806873322\n",
      "Epoch: 52 completed out of  100  loss : 918938.5986557007\n",
      "Epoch: 53 completed out of  100  loss : 629655.2749252319\n",
      "Epoch: 54 completed out of  100  loss : 896542.6777267456\n",
      "Epoch: 55 completed out of  100  loss : 669429.1486434937\n",
      "Epoch: 56 completed out of  100  loss : 531000.603591919\n",
      "Epoch: 57 completed out of  100  loss : 896438.7187805176\n",
      "Epoch: 58 completed out of  100  loss : 884563.234588623\n",
      "Epoch: 59 completed out of  100  loss : 756521.0605926514\n",
      "Epoch: 60 completed out of  100  loss : 829035.0535106659\n",
      "Epoch: 61 completed out of  100  loss : 581512.1511001587\n",
      "Epoch: 62 completed out of  100  loss : 413242.5854797363\n",
      "Epoch: 63 completed out of  100  loss : 1112083.7202177048\n",
      "Epoch: 64 completed out of  100  loss : 623058.1074371338\n",
      "Epoch: 65 completed out of  100  loss : 840566.1238613129\n",
      "Epoch: 66 completed out of  100  loss : 590493.6853485107\n",
      "Epoch: 67 completed out of  100  loss : 925294.3455505371\n",
      "Epoch: 68 completed out of  100  loss : 408516.35511398315\n",
      "Epoch: 69 completed out of  100  loss : 621304.8109588623\n",
      "Epoch: 70 completed out of  100  loss : 641846.6522521973\n",
      "Epoch: 71 completed out of  100  loss : 659122.4723434448\n",
      "Epoch: 72 completed out of  100  loss : 734337.4377613068\n",
      "Epoch: 73 completed out of  100  loss : 475731.905166626\n",
      "Epoch: 74 completed out of  100  loss : 594871.9386491776\n",
      "Epoch: 75 completed out of  100  loss : 797321.0945663452\n",
      "Epoch: 76 completed out of  100  loss : 511719.5745239258\n",
      "Epoch: 77 completed out of  100  loss : 739578.7093963623\n",
      "Epoch: 78 completed out of  100  loss : 686483.3968696594\n",
      "Epoch: 79 completed out of  100  loss : 489283.9702911377\n",
      "Epoch: 80 completed out of  100  loss : 478211.3964538574\n",
      "Epoch: 81 completed out of  100  loss : 431748.51626586914\n",
      "Epoch: 82 completed out of  100  loss : 512436.8193359375\n",
      "Epoch: 83 completed out of  100  loss : 628065.4643859863\n",
      "Epoch: 84 completed out of  100  loss : 581902.8165054321\n",
      "Epoch: 85 completed out of  100  loss : 410092.53324890137\n",
      "Epoch: 86 completed out of  100  loss : 587544.1320152283\n",
      "Epoch: 87 completed out of  100  loss : 505041.6254272461\n",
      "Epoch: 88 completed out of  100  loss : 472678.66966819763\n",
      "Epoch: 89 completed out of  100  loss : 541461.1996917725\n",
      "Epoch: 90 completed out of  100  loss : 616044.836517334\n",
      "Epoch: 91 completed out of  100  loss : 384269.4128417969\n",
      "Epoch: 92 completed out of  100  loss : 185841.42295598984\n",
      "Epoch: 93 completed out of  100  loss : 574577.87890625\n",
      "Epoch: 94 completed out of  100  loss : 582096.3594360352\n",
      "Epoch: 95 completed out of  100  loss : 604957.3033752441\n",
      "Epoch: 96 completed out of  100  loss : 447779.0037536621\n",
      "Epoch: 97 completed out of  100  loss : 509930.04010009766\n",
      "Epoch: 98 completed out of  100  loss : 470476.91970825195\n",
      "Epoch: 99 completed out of  100  loss : 507520.6402130127\n"
     ]
    }
   ],
   "source": [
    "Pred = train_neural_network(x)"
   ]
  },
  {
   "cell_type": "code",
   "execution_count": 12,
   "metadata": {},
   "outputs": [
    {
     "data": {
      "text/plain": [
       "numpy.ndarray"
      ]
     },
     "execution_count": 12,
     "metadata": {},
     "output_type": "execute_result"
    }
   ],
   "source": [
    "type(Pred)"
   ]
  },
  {
   "cell_type": "code",
   "execution_count": 13,
   "metadata": {},
   "outputs": [
    {
     "data": {
      "text/plain": [
       "array([[-12651551. , -15932577. ,  26177114. ,  -2478352.2,  -1343832.6,\n",
       "        -13201524. ,   2242715.8,  -8514935. ,  -9086143. , -13325747. ]],\n",
       "      dtype=float32)"
      ]
     },
     "execution_count": 13,
     "metadata": {},
     "output_type": "execute_result"
    }
   ],
   "source": [
    "Pred[0:1][:]"
   ]
  },
  {
   "cell_type": "code",
   "execution_count": 14,
   "metadata": {},
   "outputs": [],
   "source": [
    "A = tf.argmax(Pred,1)\n",
    "sess = tf.Session()\n",
    "a = sess.run(A)"
   ]
  },
  {
   "cell_type": "code",
   "execution_count": 15,
   "metadata": {},
   "outputs": [
    {
     "data": {
      "text/plain": [
       "(1, 28000)"
      ]
     },
     "execution_count": 15,
     "metadata": {},
     "output_type": "execute_result"
    }
   ],
   "source": [
    "a = a.reshape(1,28000)\n",
    "a.shape"
   ]
  },
  {
   "cell_type": "code",
   "execution_count": 16,
   "metadata": {},
   "outputs": [],
   "source": [
    "df_output = pd.DataFrame(a)\n",
    "df_output = df_output.T\n",
    "df_output = df_output.reset_index()\n",
    "df_output.columns = ['ImageId','Label']\n",
    "df_output['ImageId'] = df_output['ImageId']+1\n",
    "df_output.to_csv('submission.csv', index=False)"
   ]
  },
  {
   "cell_type": "code",
   "execution_count": null,
   "metadata": {},
   "outputs": [],
   "source": []
  },
  {
   "cell_type": "code",
   "execution_count": null,
   "metadata": {},
   "outputs": [],
   "source": []
  }
 ],
 "metadata": {
  "kernelspec": {
   "display_name": "Python 3",
   "language": "python",
   "name": "python3"
  },
  "language_info": {
   "codemirror_mode": {
    "name": "ipython",
    "version": 3
   },
   "file_extension": ".py",
   "mimetype": "text/x-python",
   "name": "python",
   "nbconvert_exporter": "python",
   "pygments_lexer": "ipython3",
   "version": "3.6.5"
  }
 },
 "nbformat": 4,
 "nbformat_minor": 2
}
